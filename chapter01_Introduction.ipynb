{
 "cells": [
  {
   "cell_type": "markdown",
   "metadata": {},
   "source": [
    "# CHAPTER 01 - INTRODUCTION "
   ]
  },
  {
   "cell_type": "code",
   "execution_count": 1,
   "metadata": {},
   "outputs": [],
   "source": [
    "users = [\r\n",
    "    { \"id\": 0, \"name\": \"Hero\" },\r\n",
    "    { \"id\": 1, \"name\": \"Dunn\" },\r\n",
    "    { \"id\": 2, \"name\": \"Sue\" },\r\n",
    "    { \"id\": 3, \"name\": \"Chi\" },\r\n",
    "    { \"id\": 4, \"name\": \"Thor\" },\r\n",
    "    { \"id\": 5, \"name\": \"Clive\" },\r\n",
    "    { \"id\": 6, \"name\": \"Hicks\" },\r\n",
    "    { \"id\": 7, \"name\": \"Devin\" },\r\n",
    "    { \"id\": 8, \"name\": \"Kate\" },\r\n",
    "    { \"id\": 9, \"name\": \"Klein\" }\r\n",
    "]"
   ]
  },
  {
   "cell_type": "code",
   "execution_count": 2,
   "metadata": {},
   "outputs": [],
   "source": [
    "friendship_pairs = [(0, 1), (0, 2), (1, 2), (1, 3), (2, 3), (3, 4),\r\n",
    "                    (4, 5), (5, 6), (5, 7), (6, 8), (7, 8), (8, 9)]"
   ]
  },
  {
   "cell_type": "code",
   "execution_count": 3,
   "metadata": {},
   "outputs": [],
   "source": [
    "# Initialize the dict with an empty list for each user id:\r\n",
    "friendships = {user[\"id\"]: [] for user in users}"
   ]
  },
  {
   "cell_type": "code",
   "execution_count": 4,
   "metadata": {},
   "outputs": [
    {
     "data": {
      "text/plain": "{0: [], 1: [], 2: [], 3: [], 4: [], 5: [], 6: [], 7: [], 8: [], 9: []}"
     },
     "execution_count": 4,
     "metadata": {},
     "output_type": "execute_result"
    }
   ],
   "source": [
    "friendships"
   ]
  },
  {
   "cell_type": "code",
   "execution_count": 5,
   "metadata": {},
   "outputs": [],
   "source": [
    "# And loop over the friendship pairs to populate it:\r\n",
    "for i, j in friendship_pairs:\r\n",
    "    friendships[i].append(j) # Add j as a friend of user i\r\n",
    "    friendships[j].append(i) # Add i as a friend of user j"
   ]
  },
  {
   "cell_type": "code",
   "execution_count": 6,
   "metadata": {},
   "outputs": [
    {
     "data": {
      "text/plain": "{0: [1, 2],\n 1: [0, 2, 3],\n 2: [0, 1, 3],\n 3: [1, 2, 4],\n 4: [3, 5],\n 5: [4, 6, 7],\n 6: [5, 8],\n 7: [5, 8],\n 8: [6, 7, 9],\n 9: [8]}"
     },
     "execution_count": 6,
     "metadata": {},
     "output_type": "execute_result"
    }
   ],
   "source": [
    "friendships"
   ]
  },
  {
   "cell_type": "code",
   "execution_count": 14,
   "metadata": {},
   "outputs": [],
   "source": [
    "def number_of_friends(user):\r\n",
    "    \"\"\"How many friends does _user_ have?\"\"\"\r\n",
    "    user_id = user[\"id\"]\r\n",
    "    friend_ids = friendships[user_id]\r\n",
    "    return len(friend_ids)"
   ]
  },
  {
   "cell_type": "code",
   "execution_count": 15,
   "metadata": {},
   "outputs": [],
   "source": [
    "total_connections = sum(number_of_friends(user) for user in users)"
   ]
  },
  {
   "cell_type": "code",
   "execution_count": 20,
   "metadata": {},
   "outputs": [
    {
     "data": {
      "text/plain": "24"
     },
     "execution_count": 20,
     "metadata": {},
     "output_type": "execute_result"
    }
   ],
   "source": [
    "total_connections"
   ]
  },
  {
   "cell_type": "code",
   "execution_count": 25,
   "metadata": {},
   "outputs": [
    {
     "data": {
      "text/plain": "10"
     },
     "execution_count": 25,
     "metadata": {},
     "output_type": "execute_result"
    }
   ],
   "source": [
    "num_users = len(users) # length of the users list\r\n",
    "num_users"
   ]
  },
  {
   "cell_type": "code",
   "execution_count": 26,
   "metadata": {},
   "outputs": [
    {
     "data": {
      "text/plain": "2.4"
     },
     "execution_count": 26,
     "metadata": {},
     "output_type": "execute_result"
    }
   ],
   "source": [
    "avg_connections = total_connections / num_users # 24 / 10 == 2.4\r\n",
    "avg_connections"
   ]
  },
  {
   "cell_type": "code",
   "execution_count": 27,
   "metadata": {},
   "outputs": [
    {
     "data": {
      "text/plain": "[(0, 2),\n (1, 3),\n (2, 3),\n (3, 3),\n (4, 2),\n (5, 3),\n (6, 2),\n (7, 2),\n (8, 3),\n (9, 1)]"
     },
     "execution_count": 27,
     "metadata": {},
     "output_type": "execute_result"
    }
   ],
   "source": [
    "# Create a list (user_id, number_of_friends).\r\n",
    "num_friends_by_id = [(user[\"id\"], number_of_friends(user)) for user in users]\r\n",
    "num_friends_by_id"
   ]
  },
  {
   "cell_type": "code",
   "execution_count": 28,
   "metadata": {},
   "outputs": [],
   "source": [
    "num_friends_by_id.sort( # Sort the list\r\n",
    "    key=lambda id_and_friends: id_and_friends[1], # by num_friends\r\n",
    "    reverse=True) # largest to smallest"
   ]
  },
  {
   "cell_type": "code",
   "execution_count": 29,
   "metadata": {},
   "outputs": [
    {
     "data": {
      "text/plain": "[(1, 3),\n (2, 3),\n (3, 3),\n (5, 3),\n (8, 3),\n (0, 2),\n (4, 2),\n (6, 2),\n (7, 2),\n (9, 1)]"
     },
     "execution_count": 29,
     "metadata": {},
     "output_type": "execute_result"
    }
   ],
   "source": [
    "num_friends_by_id"
   ]
  },
  {
   "cell_type": "markdown",
   "metadata": {},
   "source": [
    "## Data Scientists You May Know"
   ]
  },
  {
   "cell_type": "code",
   "execution_count": 30,
   "metadata": {},
   "outputs": [],
   "source": [
    "def foaf_ids_bad(user):\r\n",
    "    \"\"\"foaf is short for \"friend of a friend\" \"\"\"\r\n",
    "    return [foaf_id\r\n",
    "            for friend_id in friendships[user['id']]\r\n",
    "            for foaf_id in friendships[friend_id]]"
   ]
  },
  {
   "cell_type": "code",
   "execution_count": 34,
   "metadata": {},
   "outputs": [
    {
     "data": {
      "text/plain": "[0, 2, 3, 0, 1, 3]"
     },
     "execution_count": 34,
     "metadata": {},
     "output_type": "execute_result"
    }
   ],
   "source": [
    "foaf_ids_bad(users[0])"
   ]
  },
  {
   "cell_type": "code",
   "execution_count": 35,
   "metadata": {},
   "outputs": [
    {
     "name": "stdout",
     "output_type": "stream",
     "text": [
      "[1, 2]\n",
      "[0, 2, 3]\n",
      "[0, 1, 3]\n"
     ]
    }
   ],
   "source": [
    "print(friendships[0]) # [1, 2]\r\n",
    "print(friendships[1]) # [0, 2, 3]\r\n",
    "print(friendships[2]) # [0, 1, 3]"
   ]
  },
  {
   "cell_type": "code",
   "execution_count": 36,
   "metadata": {},
   "outputs": [],
   "source": [
    "from collections import Counter"
   ]
  },
  {
   "cell_type": "code",
   "execution_count": 45,
   "metadata": {},
   "outputs": [],
   "source": [
    "def friends_of_friends(user):\r\n",
    "    user_id = user['id']\r\n",
    "    return Counter(\r\n",
    "        foaf_id\r\n",
    "        for friend_id in friendships[user_id]       # For each of my friends,\r\n",
    "        for foaf_id in friendships[friend_id]       # find their friends\r\n",
    "        if foaf_id != user_id                       # who aren't me\r\n",
    "        and foaf_id not in friendships[user_id]     # who aren't me\r\n",
    "    )"
   ]
  },
  {
   "cell_type": "code",
   "execution_count": 46,
   "metadata": {},
   "outputs": [
    {
     "data": {
      "text/plain": "Counter({0: 2, 5: 1})"
     },
     "execution_count": 46,
     "metadata": {},
     "output_type": "execute_result"
    }
   ],
   "source": [
    "friends_of_friends(users[3]) # Counter({0: 2, 5: 1})"
   ]
  },
  {
   "cell_type": "code",
   "execution_count": 50,
   "metadata": {},
   "outputs": [],
   "source": [
    "interests = [\r\n",
    "    (0, \"Hadoop\"), (0, \"Big Data\"), (0, \"HBase\"), (0, \"Java\"),\r\n",
    "    (0, \"Spark\"), (0, \"Storm\"), (0, \"Cassandra\"),\r\n",
    "    (1, \"NoSQL\"), (1, \"MongoDB\"), (1, \"Cassandra\"), (1, \"HBase\"),\r\n",
    "    (1, \"Postgres\"), (2, \"Python\"), (2, \"scikit-learn\"), (2, \"scipy\"),\r\n",
    "    (2, \"numpy\"), (2, \"statsmodels\"), (2, \"pandas\"), (3, \"R\"), (3, \"Python\"),\r\n",
    "    (3, \"statistics\"), (3, \"regression\"), (3, \"probability\"),\r\n",
    "    (4, \"machine learning\"), (4, \"regression\"), (4, \"decision trees\"),\r\n",
    "    (4, \"libsvm\"), (5, \"Python\"), (5, \"R\"), (5, \"Java\"), (5, \"C++\"),\r\n",
    "    (5, \"Haskell\"), (5, \"programming languages\"), (6, \"statistics\"),\r\n",
    "    (6, \"probability\"), (6, \"mathematics\"), (6, \"theory\"),\r\n",
    "    (7, \"machine learning\"), (7, \"scikit-learn\"), (7, \"Mahout\"),\r\n",
    "    (7, \"neural networks\"), (8, \"neural networks\"), (8, \"deep learning\"),\r\n",
    "    (8, \"Big Data\"), (8, \"artificial intelligence\"), (9, \"Hadoop\"),\r\n",
    "    (9, \"Java\"), (9, \"MapReduce\"), (9, \"Big Data\")\r\n",
    "]"
   ]
  },
  {
   "cell_type": "code",
   "execution_count": 51,
   "metadata": {},
   "outputs": [],
   "source": [
    "def data_scientists_who_like(target_interest):\r\n",
    "    \"\"\"Find the ids of all users who like the target interest.\"\"\"\r\n",
    "    return [user_id\r\n",
    "            for user_id, user_interest in interests\r\n",
    "            if user_interest == target_interest]"
   ]
  },
  {
   "cell_type": "code",
   "execution_count": 52,
   "metadata": {},
   "outputs": [],
   "source": [
    "from collections import defaultdict\r\n"
   ]
  },
  {
   "cell_type": "code",
   "execution_count": 53,
   "metadata": {},
   "outputs": [],
   "source": [
    "# Keys are interests, values are lists of user_ids with that interest\r\n",
    "user_ids_by_interest = defaultdict(list)"
   ]
  },
  {
   "cell_type": "code",
   "execution_count": 54,
   "metadata": {},
   "outputs": [],
   "source": [
    "for user_id, interest in interests:\r\n",
    "    user_ids_by_interest[interest].append(user_id)"
   ]
  },
  {
   "cell_type": "code",
   "execution_count": 55,
   "metadata": {},
   "outputs": [],
   "source": [
    "# Keys are user_ids, values are lists of interests for that user_id.\r\n",
    "interests_by_user_id = defaultdict(list)"
   ]
  },
  {
   "cell_type": "code",
   "execution_count": 56,
   "metadata": {},
   "outputs": [],
   "source": [
    "for user_id, interest in interests:\r\n",
    "    interests_by_user_id[user_id].append(interest)"
   ]
  },
  {
   "cell_type": "code",
   "execution_count": 57,
   "metadata": {},
   "outputs": [
    {
     "data": {
      "text/plain": "defaultdict(list,\n            {0: ['Hadoop',\n              'Big Data',\n              'HBase',\n              'Java',\n              'Spark',\n              'Storm',\n              'Cassandra'],\n             1: ['NoSQL', 'MongoDB', 'Cassandra', 'HBase', 'Postgres'],\n             2: ['Python',\n              'scikit-learn',\n              'scipy',\n              'numpy',\n              'statsmodels',\n              'pandas'],\n             3: ['R', 'Python', 'statistics', 'regression', 'probability'],\n             4: ['machine learning', 'regression', 'decision trees', 'libsvm'],\n             5: ['Python',\n              'R',\n              'Java',\n              'C++',\n              'Haskell',\n              'programming languages'],\n             6: ['statistics', 'probability', 'mathematics', 'theory'],\n             7: ['machine learning',\n              'scikit-learn',\n              'Mahout',\n              'neural networks'],\n             8: ['neural networks',\n              'deep learning',\n              'Big Data',\n              'artificial intelligence'],\n             9: ['Hadoop', 'Java', 'MapReduce', 'Big Data']})"
     },
     "execution_count": 57,
     "metadata": {},
     "output_type": "execute_result"
    }
   ],
   "source": [
    "interests_by_user_id"
   ]
  },
  {
   "cell_type": "code",
   "execution_count": 59,
   "metadata": {},
   "outputs": [],
   "source": [
    "def most_common_interests_with(user):\r\n",
    "    return Counter(\r\n",
    "        interested_user_id\r\n",
    "        for interest in interests_by_user_id[user[\"id\"]]\r\n",
    "        for interested_user_id in user_ids_by_interest[interest]\r\n",
    "        if interested_user_id != user[\"id\"]\r\n",
    "    )"
   ]
  },
  {
   "cell_type": "code",
   "execution_count": 61,
   "metadata": {},
   "outputs": [
    {
     "data": {
      "text/plain": "Counter({9: 3, 8: 1, 1: 2, 5: 1})"
     },
     "execution_count": 61,
     "metadata": {},
     "output_type": "execute_result"
    }
   ],
   "source": [
    "most_common_interests_with(users[0])"
   ]
  },
  {
   "cell_type": "code",
   "execution_count": null,
   "metadata": {},
   "outputs": [],
   "source": []
  },
  {
   "cell_type": "code",
   "execution_count": null,
   "metadata": {},
   "outputs": [],
   "source": []
  }
 ],
 "metadata": {
  "kernelspec": {
   "display_name": "Python 3.9.2 64-bit",
   "name": "python392jvsc74a57bd09d2551a9749556e3c0c1217eb76a7dc61235d18c2a53835cd4577df410224461"
  },
  "language_info": {
   "codemirror_mode": {
    "name": "ipython",
    "version": 3
   },
   "file_extension": ".py",
   "mimetype": "text/x-python",
   "name": "python",
   "nbconvert_exporter": "python",
   "pygments_lexer": "ipython3",
   "version": "3.9.2"
  },
  "metadata": {
   "interpreter": {
    "hash": "9d2551a9749556e3c0c1217eb76a7dc61235d18c2a53835cd4577df410224461"
   }
  },
  "orig_nbformat": 2
 },
 "nbformat": 4,
 "nbformat_minor": 2
}